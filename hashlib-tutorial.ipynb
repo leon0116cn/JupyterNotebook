{
 "nbformat": 4,
 "nbformat_minor": 2,
 "metadata": {
  "language_info": {
   "name": "python",
   "codemirror_mode": {
    "name": "ipython",
    "version": 3
   },
   "version": "3.7.3-final"
  },
  "orig_nbformat": 2,
  "file_extension": ".py",
  "mimetype": "text/x-python",
  "name": "python",
  "npconvert_exporter": "python",
  "pygments_lexer": "ipython3",
  "version": 3,
  "kernelspec": {
   "name": "python37364bitvenvvenv770a61501b9d4d98a28b7edba8ff099b",
   "display_name": "Python 3.7.3 64-bit ('venv': venv)"
  }
 },
 "cells": [
  {
   "cell_type": "markdown",
   "metadata": {},
   "source": [
    "<h2>hashlib --- 安全哈希与消息摘要</h2>\n",
    "每种类型的 hash 都有一个构造器方法。 它们都返回一个具有相同的简单接口的 hash 对象。 例如，使用 sha256() 创建一个 SHA-256 hash 对象。 你可以使用 update() 方法向这个对象输入 字节类对象 (通常是 bytes)。 在任何时候你都可以使用 digest() 或 hexdigest() 方法获得到目前为止输入这个对象的拼接数据的 digest。"
   ],
   "execution_count": null,
   "outputs": []
  },
  {
   "cell_type": "code",
   "execution_count": 5,
   "metadata": {},
   "outputs": [
    {
     "output_type": "stream",
     "name": "stdout",
     "text": "{'md5', 'sha384', 'sha512', 'ripemd160', 'md5-sha1', 'shake_256', 'sha3_512', 'sha3_256', 'blake2b512', 'sha3_384', 'sha1', 'sha256', 'whirlpool', 'blake2s256', 'sha224', 'sha3_224', 'shake_128', 'md4', 'blake2b', 'blake2s'}\n"
    }
   ],
   "source": [
    "import hashlib\n",
    "\n",
    "# 所运行的 Python 解释器上可用的哈希算法的名称\n",
    "print(hashlib.algorithms_available)"
   ]
  },
  {
   "cell_type": "code",
   "execution_count": 6,
   "metadata": {},
   "outputs": [
    {
     "output_type": "stream",
     "name": "stdout",
     "text": "{'md5', 'sha384', 'sha512', 'sha224', 'sha3_224', 'shake_256', 'shake_128', 'sha3_512', 'sha3_256', 'blake2b', 'blake2s', 'sha3_384', 'sha1', 'sha256'}\n"
    }
   ],
   "source": [
    "# 模块在所有平台上都保证支持的哈希算法的名称\n",
    "print(hashlib.algorithms_guaranteed)"
   ]
  },
  {
   "cell_type": "code",
   "execution_count": 7,
   "metadata": {},
   "outputs": [
    {
     "output_type": "stream",
     "name": "stdout",
     "text": "b'\\x03\\x1e\\xdd}Ae\\x15\\x93\\xc5\\xfe\\\\\\x00o\\xa5u+7\\xfd\\xdf\\xf7\\xbcN\\x84:\\xa6\\xaf\\x0c\\x95\\x0fK\\x94\\x06'\n32\n"
    }
   ],
   "source": [
    "# 每种类型的哈希算法都有一个构造器方法\n",
    "# 例如，md5()，sha1(), sha224(), sha256(), sha384(), sha512(), blake2b() 和 blake2s()等。\n",
    "sha256 = hashlib.sha256()\n",
    "\n",
    "# 通过 update() 方法向该对象输入字节对象(通常是bytes)\n",
    "# 例如要计算 b'Nobody inspects the spammish repetition' 的安全哈希\n",
    "sha256.update(b'Nobody inspects the ')\n",
    "sha256.update(b'spammish repetition')\n",
    "\n",
    "# 返回已传给 update() 方法的数据的安全哈希,大小为 digest_size 的字节串对象\n",
    "print(sha256.digest())\n",
    "print(sha256.digest_size)\n",
    ""
   ]
  },
  {
   "cell_type": "code",
   "execution_count": 8,
   "metadata": {},
   "outputs": [
    {
     "output_type": "stream",
     "name": "stdout",
     "text": "031edd7d41651593c5fe5c006fa5752b37fddff7bc4e843aa6af0c950f4b9406\n"
    }
   ],
   "source": [
    "# 类似于 digest() 但安全哈希会以两倍长度字符串对象的形式返回，其中仅包含十六进制数码\n",
    "print(sha256.hexdigest())"
   ]
  },
  {
   "cell_type": "code",
   "execution_count": 9,
   "metadata": {},
   "outputs": [
    {
     "output_type": "stream",
     "name": "stdout",
     "text": "031edd7d41651593c5fe5c006fa5752b37fddff7bc4e843aa6af0c950f4b9406\n"
    }
   ],
   "source": [
    "# 更简单的写法\n",
    "hex_digest = hashlib.sha256(b'Nobody inspects the spammish repetition').hexdigest()\n",
    "print(hex_digest)"
   ]
  },
  {
   "cell_type": "code",
   "execution_count": 10,
   "metadata": {},
   "outputs": [
    {
     "output_type": "stream",
     "name": "stdout",
     "text": "b'\\x03\\x1e\\xdd}Ae\\x15\\x93\\xc5\\xfe\\\\\\x00o\\xa5u+7\\xfd\\xdf\\xf7\\xbcN\\x84:\\xa6\\xaf\\x0c\\x95\\x0fK\\x94\\x06'\n"
    }
   ],
   "source": [
    "digest = hashlib.sha256(b'Nobody inspects the spammish repetition').digest()\n",
    "print(digest)"
   ]
  }
 ]
}