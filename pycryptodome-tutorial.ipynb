{
 "nbformat": 4,
 "nbformat_minor": 2,
 "metadata": {
  "language_info": {
   "name": "python",
   "codemirror_mode": {
    "name": "ipython",
    "version": 3
   },
   "version": "3.7.3-final"
  },
  "orig_nbformat": 2,
  "file_extension": ".py",
  "mimetype": "text/x-python",
  "name": "python",
  "npconvert_exporter": "python",
  "pygments_lexer": "ipython3",
  "version": 3,
  "kernelspec": {
   "name": "python37364bitvenvvenvbeeb32ef30fe4d479c40333f8d07edd5",
   "display_name": "Python 3.7.3 64-bit ('venv': venv)"
  }
 },
 "cells": [
  {
   "cell_type": "markdown",
   "metadata": {},
   "source": [
    "<h2>Asymmetric ciphers</h2>\n",
    "Senders and receivers use different keys. Senders encrypt with public keys (non-secret) whereas receivers decrypt with private keys (secret). Asymmetric ciphers are typically very slow and can process only very small payloads. Example: PKCS#1 OAEP (RSA)."
   ],
   "execution_count": null,
   "outputs": []
  },
  {
   "cell_type": "code",
   "execution_count": null,
   "metadata": {},
   "outputs": [],
   "source": [
    "from Crypto.PublicKey import RSA\n",
    "from Crypto.Cipher import PKCS1_OAEP\n",
    "\n",
    "message = b'hello world.'\n",
    "# 导入RSA公钥\n",
    "pub_key = RSA.import_key(open('data/rsa_pub_key.pem').read())\n",
    "\n",
    "# 创建PKCS1OAEP_Cipher，PKCS#1 OAEP is an asymmetric cipher based on RSA and the OAEP padding. \n",
    "cipher = PKCS1_OAEP.new(pub_key)\n",
    "cipher_text = cipher.encrypt(message)\n",
    "print(cipher_text)"
   ]
  },
  {
   "cell_type": "code",
   "execution_count": null,
   "metadata": {},
   "outputs": [],
   "source": [
    "# 导入RSA私钥\n",
    "key = RSA.import_key(open('data/rsa_key.pem').read())\n",
    "\n",
    "# 创建PKCS1OAEP_Cipher，加密时使用公钥，解密时使用私钥\n",
    "cipher = PKCS1_OAEP.new(key)\n",
    "plain_text = cipher.decrypt(cipher_text)\n",
    "print(plain_text)"
   ]
  },
  {
   "cell_type": "markdown",
   "metadata": {},
   "source": [
    "<h2>Digital signatures</h2>\n",
    "Digital signatures are based on public key cryptography: the party that signs a message holds the private key, the one that verifies the signature holds the public key，used to guarantee integrity and non-repudiation."
   ],
   "execution_count": null,
   "outputs": []
  },
  {
   "cell_type": "code",
   "execution_count": null,
   "metadata": {},
   "outputs": [],
   "source": [
    "from Crypto.PublicKey import RSA\n",
    "from Crypto.Signature import pss\n",
    "from Crypto import Hash\n",
    "\n",
    "message = b'hello world.'\n",
    "# 导入RSA私钥\n",
    "key = RSA.import_key(open('data/rsa_key.pem').read())\n",
    "\n",
    "# 创建hash对象，可用 update() 添加字节对象\n",
    "hash_obj = Hash.SHA256.new(message)\n",
    "\n",
    "# 创建signer对象，调用sign()方法并以hash对象为输入参数，返回signature of message\n",
    "signer = pss.new(key)\n",
    "signature = signer.sign(hash_obj)\n",
    "print(signature)"
   ]
  },
  {
   "cell_type": "code",
   "execution_count": null,
   "metadata": {},
   "outputs": [],
   "source": [
    "# 导入RSA公钥\n",
    "pub_key = RSA.import_key(open('data/rsa_pub_key.pem').read())\n",
    "\n",
    "# 创建hash对象，可用 update() 添加字节对象\n",
    "hash_obj = Hash.SHA256.new(message)\n",
    "\n",
    "# 创建verifier对象，调用sign()方法并以hash对象为输入参数，返回signature of message\n",
    "verifier = pss.new(pub_key)\n",
    "\n",
    "try:\n",
    "    # 调用verifier的 verify() 方法，并以hash对象和signature为输入参数，返回 \n",
    "    Invoke the verify() method on the verifier, with the hash object and the incoming signature as parameters. If the message is not authentic, an ValueError is raised.\n",
    "    verifier.verify(hash_obj, signature)\n",
    "    print('Verify signature: success.')\n",
    "except ValueError:\n",
    "    print('Verify signature: fail.')"
   ]
  },
  {
   "cell_type": "markdown",
   "metadata": {},
   "source": [
    "<h2>Symmetric ciphers</h2>\n",
    "All parties use the same key, for both decrypting and encrypting data. Symmetric ciphers are typically very fast and can process very large amount of data.<br>\n",
    "AES (Advanced Encryption Standard) is a symmetric block cipher standardized by NIST . It has a fixed data block size of 16 bytes. Its keys can be 128, 192, or 256 bits long.It is very fast and secure, and it is the de facto standard for symmetric encryption."
   ],
   "execution_count": null,
   "outputs": []
  },
  {
   "cell_type": "code",
   "execution_count": null,
   "metadata": {},
   "outputs": [],
   "source": [
    "from Crypto.Cipher import AES\n",
    "from Crypto.Random import get_random_bytes\n",
    "from Crypto.Util.Padding import pad, unpad\n",
    "\n",
    "message = b'hello world.'\n",
    "\n",
    "# returns a random byte string of the desired size.\n",
    "key = get_random_bytes(16)\n",
    "\n",
    "# 创建CBC加密算法对象\n",
    "# CBC Mode:Ciphertext Block Chaining,it is a mode of operation where each plaintext block gets XOR-ed with the previous ciphertext block prior to encryption.\n",
    "cipher = AES.new(key, AES.MODE_CBC)\n",
    "\n",
    "# A CBC cipher object has a read-only attribute iv, holding the Initialization Vector (bytes). If not present, the library creates a random IV value.\n",
    "iv = cipher.iv\n",
    "print(iv)\n",
    "\n",
    "# The method encrypt() (and likewise decrypt()) of a CBC cipher object expects data to have length multiple of the block size (e.g. 16 bytes for AES). You might need to use Crypto.Util.Padding to align the plaintext to the right boundary.\n",
    "cipher_text = cipher.encrypt(pad(message, AES.block_size))\n",
    "print(cipher_text)"
   ]
  },
  {
   "cell_type": "code",
   "execution_count": null,
   "metadata": {},
   "outputs": [],
   "source": [
    "cipher = AES.new(key, AES.MODE_CBC, iv)\n",
    "\n",
    "plain_text = unpad(cipher.decrypt(cipher_text), AES.block_size)\n",
    "print(plain_text)"
   ]
  },
  {
   "cell_type": "markdown",
   "metadata": {},
   "source": [
    "<h2>Hybrid ciphers</h2>\n",
    "The two types of ciphers above can be combined in a construction that inherits the benefits of both. An asymmetric cipher is used to protect a short-lived symmetric key, and a symmetric cipher (under that key) encrypts the actual message."
   ],
   "execution_count": null,
   "outputs": []
  },
  {
   "cell_type": "code",
   "execution_count": 44,
   "metadata": {},
   "outputs": [
    {
     "output_type": "stream",
     "name": "stdout",
     "text": "AES KEY: b'A[\\x9d\\xd7?\\x11\\x93\\xa1\\xbb\\x86\\xa0\\x16\\xc4\\x1c\\xf1x'\nEncrypted AES Key: b'W)k\\xc7\\x02v\\x83\\xdc\\xabt\\x7f\\xde\\xb1\\x9c\\x04x\\xc3\\xffc{}\\x82 \\x1d\\x9eu\\xd72(\\xd2\\x92\\xd7\\xec\\xa1O\\xb9\\x995\\x96%s\\x03_\\x14+^G|\\xed.\\x8a\\xc4`t\\x9d;E\\xee,K\\xafT5\\x96l\\x00\\xf5\\x18\\xaa\\nk\\xba\\xf1\\xfa\\\\s\\x1dy\\xa2z\\xb6o$V\\x85\\x89\\x03\\xfd\\x05\\x9a@\\xe0\\x14\\xb6Vu\\tP5\\xef\\xbe3m\\xb5m\\xec\\xf2C\\x97\\xe4\\xcb^\\x95\\x88<\\xeb\\xa4\"z\\xd1\\xbfS(\\x93\\x0e\\xedo\\xd6\\xab(\\xab\\xe8`\\x8e\\x92.\\xce\\x1a\\xfat\\x19\\xf23\\xf9\\xcf\\xb5\\xc1\\x9b\\xa0\\xb9/\\xea\\xca\\x84\\xb32\\xab.U\\xf7\\xaa\\x97>\\xab/\\xb8\\xbc#\\xa0\\xe3)\\x1e%\\xdb\\xf29\\xe2W\\xf6\\xe7\\x17\\xd8\\x04\\xd7\\x11\\x0f\\xdf)>\\x9b=\\xea\\xfd\\x18\\xf8\\xf6\\xf1\\xde3 \\x98=Hj1\\x90\\xb6\\x12\\x1e0\\xc2(\\xf5\\xa3\\x9e\\x10\\xd4e\\x81cm\\xe1\\x1d\\xb4\\x01\\xea\\x9c\\x7f\\x08\\x1d\\x1e\\x1f;#D}\\xce\\xa5EY\\xd1\\xa6H\\xfe\\xc0\\xe3\\xb7\\x06\\xe6BQ\\x0b\\xed}\\x1d\\xad'\nCipher Text: b'pI\\x85,\\x98-\\xc4\\xec\\x98Y\\x1e\\xce\\x08\\x90RO'\nAES_IV：b'P+\"\\x12f\\xf45\\xb3\\xa9\\xa5v\\xc4\\xe0#~\\xed'\n"
    }
   ],
   "source": [
    "from Crypto.Cipher import AES, PKCS1_OAEP\n",
    "from Crypto.Random import get_random_bytes\n",
    "from Crypto.Util.Padding import pad, unpad\n",
    "\n",
    "message = b'hello world.'\n",
    "\n",
    "# 导入RSA公钥\n",
    "pub_key = RSA.import_key(open('data/rsa_pub_key.pem').read())\n",
    "\n",
    "# returns a random byte string of the desired size.\n",
    "aes_key = get_random_bytes(16)\n",
    "print('AES KEY: {}'.format(aes_key))\n",
    "\n",
    "# Encrypt the AES key with the public RSA key\n",
    "cipher_rsa = PKCS1_OAEP.new(pub_key)\n",
    "enc_aes_key = cipher_rsa.encrypt(aes_key)\n",
    "print('Encrypted AES Key: {}'.format(enc_aes_key))\n",
    "\n",
    "# Encrypt the message with the AES key\n",
    "cipher_aes = AES.new(aes_key, AES.MODE_CBC)\n",
    "cipher_text = cipher_aes.encrypt(pad(message, AES.block_size))\n",
    "print('Cipher Text: {}'.format(cipher_text))\n",
    "\n",
    "aes_iv = cipher_aes.iv\n",
    "print('AES_IV：{}'.format(aes_iv))"
   ]
  },
  {
   "cell_type": "code",
   "execution_count": 45,
   "metadata": {},
   "outputs": [
    {
     "output_type": "stream",
     "name": "stdout",
     "text": "Decrypted AES Key: b'A[\\x9d\\xd7?\\x11\\x93\\xa1\\xbb\\x86\\xa0\\x16\\xc4\\x1c\\xf1x'\nPlain Text: b'hello world.'\n"
    }
   ],
   "source": [
    "# 导入RSA私钥\n",
    "key = RSA.import_key(open('data/rsa_key.pem').read())\n",
    "\n",
    "# Decrypt the AES key with the private RSA key\n",
    "cipher_rsa = PKCS1_OAEP.new(key)\n",
    "dec_aes_key = cipher_rsa.decrypt(enc_aes_key)\n",
    "print('Decrypted AES Key: {}'.format(dec_aes_key))\n",
    "\n",
    "# Decrypt the data with the AES key\n",
    "cipher_aes = AES.new(dec_aes_key, AES.MODE_CBC, iv=aes_iv)\n",
    "plain_text = unpad(cipher_aes.decrypt(cipher_text), AES.block_size)\n",
    "print('Plain Text: {}'.format(plain_text))"
   ]
  }
 ]
}