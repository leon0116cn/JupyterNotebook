{
 "nbformat": 4,
 "nbformat_minor": 2,
 "metadata": {
  "language_info": {
   "name": "python",
   "codemirror_mode": {
    "name": "ipython",
    "version": 3
   },
   "version": "3.7.3-final"
  },
  "orig_nbformat": 2,
  "file_extension": ".py",
  "mimetype": "text/x-python",
  "name": "python",
  "npconvert_exporter": "python",
  "pygments_lexer": "ipython3",
  "version": 3,
  "kernelspec": {
   "name": "python37364bitvenvvenvbeeb32ef30fe4d479c40333f8d07edd5",
   "display_name": "Python 3.7.3 64-bit ('venv': venv)"
  }
 },
 "cells": [
  {
   "cell_type": "markdown",
   "metadata": {},
   "source": [
    "<h2>hmac --- 基于密钥的消息验证</h2>\n",
    "Keyed-Hashing for Message Authentication，它通过一个标准算法，在计算哈希的过程中，把key混入计算过程中。\n",
    "防止黑客通过彩虹表根据哈希值反推原始口令，在计算哈希的时候，不能仅针对原始输入计算，需要增加一个salt来使得相同的输入也能得到不同的哈希，这样，大大增加了黑客破解的难度。"
   ],
   "execution_count": null,
   "outputs": []
  },
  {
   "cell_type": "code",
   "execution_count": null,
   "metadata": {},
   "outputs": [],
   "source": [
    "import secrets\n",
    "import hmac\n",
    "import hashlib\n",
    "\n",
    "message = b'hello world.'\n",
    "# 生成16 bytes的秘钥\n",
    "key = secrets.token_bytes(16)\n",
    "# 初始化hmac对象, degestmode关键字参数的默认值为 hashlib.md5\n",
    "h = hmac.new(key, digestmod=hashlib.sha256)\n",
    "# 向hamc对象添加字节对象\n",
    "h.update(message)\n",
    "# 返回已传给 update() 方法的数据的安全哈希,大小为 digest_size 的字节串对象\n",
    "print(h.digest())\n",
    "# 类似于 digest() 但安全哈希会以两倍长度字符串对象的形式返回，其中仅包含十六进制数码\n",
    "print(h.hexdigest())"
   ]
  },
  {
   "cell_type": "code",
   "execution_count": null,
   "metadata": {},
   "outputs": [],
   "source": [
    "# 更简单的写法\n",
    "digest = hmac.new(key, message).digest()\n",
    "print(digest)"
   ]
  },
  {
   "cell_type": "code",
   "execution_count": null,
   "metadata": {},
   "outputs": [],
   "source": [
    "# 更简单的写法\n",
    "hex_digest = hmac.new(key, message, digestmod=hashlib.sha256).hexdigest()\n",
    "print(hex_digest)"
   ]
  }
 ]
}